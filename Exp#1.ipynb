{
 "cells": [
  {
   "cell_type": "code",
   "execution_count": 1,
   "metadata": {},
   "outputs": [],
   "source": [
    "import pandas as pd\n",
    "import numpy as np\n",
    "import matplotlib.pyplot as plt"
   ]
  },
  {
   "cell_type": "code",
   "execution_count": 2,
   "metadata": {},
   "outputs": [],
   "source": [
    "data = {'Country': ['Belgium', 'India', 'Brazil','Brazil'],\n",
    " 'Capital': ['Brussels', 'Delhi', 'Brasília','SaoPo'],\n",
    " 'Pop': [11190, 130317, 20784,13141]}"
   ]
  },
  {
   "cell_type": "code",
   "execution_count": 3,
   "metadata": {},
   "outputs": [
    {
     "data": {
      "text/html": [
       "<div>\n",
       "<style scoped>\n",
       "    .dataframe tbody tr th:only-of-type {\n",
       "        vertical-align: middle;\n",
       "    }\n",
       "\n",
       "    .dataframe tbody tr th {\n",
       "        vertical-align: top;\n",
       "    }\n",
       "\n",
       "    .dataframe thead th {\n",
       "        text-align: right;\n",
       "    }\n",
       "</style>\n",
       "<table border=\"1\" class=\"dataframe\">\n",
       "  <thead>\n",
       "    <tr style=\"text-align: right;\">\n",
       "      <th></th>\n",
       "      <th>Country</th>\n",
       "      <th>Capital</th>\n",
       "      <th>Pop</th>\n",
       "    </tr>\n",
       "  </thead>\n",
       "  <tbody>\n",
       "    <tr>\n",
       "      <th>0</th>\n",
       "      <td>Belgium</td>\n",
       "      <td>Brussels</td>\n",
       "      <td>11190</td>\n",
       "    </tr>\n",
       "    <tr>\n",
       "      <th>1</th>\n",
       "      <td>India</td>\n",
       "      <td>Delhi</td>\n",
       "      <td>130317</td>\n",
       "    </tr>\n",
       "    <tr>\n",
       "      <th>2</th>\n",
       "      <td>Brazil</td>\n",
       "      <td>Brasília</td>\n",
       "      <td>20784</td>\n",
       "    </tr>\n",
       "    <tr>\n",
       "      <th>3</th>\n",
       "      <td>Brazil</td>\n",
       "      <td>SaoPo</td>\n",
       "      <td>13141</td>\n",
       "    </tr>\n",
       "  </tbody>\n",
       "</table>\n",
       "</div>"
      ],
      "text/plain": [
       "   Country   Capital     Pop\n",
       "0  Belgium  Brussels   11190\n",
       "1    India     Delhi  130317\n",
       "2   Brazil  Brasília   20784\n",
       "3   Brazil     SaoPo   13141"
      ]
     },
     "execution_count": 3,
     "metadata": {},
     "output_type": "execute_result"
    }
   ],
   "source": [
    "df = pd.DataFrame(data)\n",
    "df"
   ]
  },
  {
   "cell_type": "code",
   "execution_count": 240,
   "metadata": {},
   "outputs": [
    {
     "data": {
      "text/html": [
       "<div>\n",
       "<style scoped>\n",
       "    .dataframe tbody tr th:only-of-type {\n",
       "        vertical-align: middle;\n",
       "    }\n",
       "\n",
       "    .dataframe tbody tr th {\n",
       "        vertical-align: top;\n",
       "    }\n",
       "\n",
       "    .dataframe thead th {\n",
       "        text-align: right;\n",
       "    }\n",
       "</style>\n",
       "<table border=\"1\" class=\"dataframe\">\n",
       "  <thead>\n",
       "    <tr style=\"text-align: right;\">\n",
       "      <th></th>\n",
       "      <th>Country</th>\n",
       "      <th>Capital</th>\n",
       "    </tr>\n",
       "  </thead>\n",
       "  <tbody>\n",
       "    <tr>\n",
       "      <th>0</th>\n",
       "      <td>Belgium</td>\n",
       "      <td>Brussels</td>\n",
       "    </tr>\n",
       "    <tr>\n",
       "      <th>1</th>\n",
       "      <td>India</td>\n",
       "      <td>Delhi</td>\n",
       "    </tr>\n",
       "    <tr>\n",
       "      <th>2</th>\n",
       "      <td>Brazil</td>\n",
       "      <td>Brasília</td>\n",
       "    </tr>\n",
       "    <tr>\n",
       "      <th>3</th>\n",
       "      <td>Brazil</td>\n",
       "      <td>SaoPo</td>\n",
       "    </tr>\n",
       "  </tbody>\n",
       "</table>\n",
       "</div>"
      ],
      "text/plain": [
       "   Country   Capital\n",
       "0  Belgium  Brussels\n",
       "1    India     Delhi\n",
       "2   Brazil  Brasília\n",
       "3   Brazil     SaoPo"
      ]
     },
     "execution_count": 240,
     "metadata": {},
     "output_type": "execute_result"
    }
   ],
   "source": [
    "df.iloc[:,:2]"
   ]
  },
  {
   "cell_type": "code",
   "execution_count": 241,
   "metadata": {},
   "outputs": [
    {
     "data": {
      "text/plain": [
       "'Brazil'"
      ]
     },
     "execution_count": 241,
     "metadata": {},
     "output_type": "execute_result"
    }
   ],
   "source": [
    "df.iat[2,0]"
   ]
  },
  {
   "cell_type": "code",
   "execution_count": 242,
   "metadata": {},
   "outputs": [
    {
     "data": {
      "text/html": [
       "<div>\n",
       "<style scoped>\n",
       "    .dataframe tbody tr th:only-of-type {\n",
       "        vertical-align: middle;\n",
       "    }\n",
       "\n",
       "    .dataframe tbody tr th {\n",
       "        vertical-align: top;\n",
       "    }\n",
       "\n",
       "    .dataframe thead th {\n",
       "        text-align: right;\n",
       "    }\n",
       "</style>\n",
       "<table border=\"1\" class=\"dataframe\">\n",
       "  <thead>\n",
       "    <tr style=\"text-align: right;\">\n",
       "      <th></th>\n",
       "      <th>Country</th>\n",
       "      <th>Capital</th>\n",
       "    </tr>\n",
       "  </thead>\n",
       "  <tbody>\n",
       "    <tr>\n",
       "      <th>0</th>\n",
       "      <td>Belgium</td>\n",
       "      <td>Brussels</td>\n",
       "    </tr>\n",
       "    <tr>\n",
       "      <th>1</th>\n",
       "      <td>India</td>\n",
       "      <td>Delhi</td>\n",
       "    </tr>\n",
       "  </tbody>\n",
       "</table>\n",
       "</div>"
      ],
      "text/plain": [
       "   Country   Capital\n",
       "0  Belgium  Brussels\n",
       "1    India     Delhi"
      ]
     },
     "execution_count": 242,
     "metadata": {},
     "output_type": "execute_result"
    }
   ],
   "source": [
    "df.loc[[0,1],'Country':'Capital']"
   ]
  },
  {
   "cell_type": "code",
   "execution_count": 243,
   "metadata": {},
   "outputs": [
    {
     "data": {
      "text/plain": [
       "'Belgium'"
      ]
     },
     "execution_count": 243,
     "metadata": {},
     "output_type": "execute_result"
    }
   ],
   "source": [
    "df.at[0,'Country']"
   ]
  },
  {
   "cell_type": "code",
   "execution_count": 244,
   "metadata": {},
   "outputs": [
    {
     "data": {
      "text/plain": [
       "Country      BelgiumIndiaBrazilBrazil\n",
       "Capital    BrusselsDelhiBrasíliaSaoPo\n",
       "Pop                            175432\n",
       "dtype: object"
      ]
     },
     "execution_count": 244,
     "metadata": {},
     "output_type": "execute_result"
    }
   ],
   "source": [
    "df.sum()"
   ]
  },
  {
   "cell_type": "code",
   "execution_count": 245,
   "metadata": {},
   "outputs": [
    {
     "data": {
      "text/plain": [
       "Country    4\n",
       "Capital    4\n",
       "Pop        4\n",
       "dtype: int64"
      ]
     },
     "execution_count": 245,
     "metadata": {},
     "output_type": "execute_result"
    }
   ],
   "source": [
    "df.count()"
   ]
  },
  {
   "cell_type": "code",
   "execution_count": 4,
   "metadata": {},
   "outputs": [
    {
     "name": "stdout",
     "output_type": "stream",
     "text": [
      "7 11 3\n"
     ]
    }
   ],
   "source": [
    "a=3\n",
    "b=11\n",
    "c=7\n",
    "\n",
    "c,b,a = a,b,c\n",
    "print(a,b,c) #Swap Variables"
   ]
  },
  {
   "cell_type": "code",
   "execution_count": 247,
   "metadata": {},
   "outputs": [
    {
     "name": "stdout",
     "output_type": "stream",
     "text": [
      "   Country   Capital     Pop  Popcumsum\n",
      "0  Belgium  Brussels   11190      11190\n",
      "1    India     Delhi  130317     141507\n",
      "2   Brazil  Brasília   20784     162291\n",
      "3   Brazil     SaoPo   13141     175432\n",
      "                    Country                     Capital     Pop  Popcumsum\n",
      "0                   Belgium                    Brussels   11190      11190\n",
      "1              BelgiumIndia               BrusselsDelhi  141507     152697\n",
      "2        BelgiumIndiaBrazil       BrusselsDelhiBrasília  162291     314988\n",
      "3  BelgiumIndiaBrazilBrazil  BrusselsDelhiBrasíliaSaoPo  175432     490420\n"
     ]
    }
   ],
   "source": [
    "df['Popcumsum'] = df.Pop.cumsum()\n",
    "print(df)\n",
    "print(df.cumsum())"
   ]
  },
  {
   "cell_type": "code",
   "execution_count": 248,
   "metadata": {},
   "outputs": [
    {
     "name": "stdout",
     "output_type": "stream",
     "text": [
      "          Country           Capital     Pop  Popcumsum\n",
      "0  BelgiumBelgium  BrusselsBrussels   22380      22380\n",
      "1      IndiaIndia        DelhiDelhi  260634     283014\n",
      "2    BrazilBrazil  BrasíliaBrasília   41568     324582\n",
      "3    BrazilBrazil        SaoPoSaoPo   26282     350864\n",
      "          Country           Capital     Pop  Popcumsum\n",
      "0  BelgiumBelgium  BrusselsBrussels   22380      22380\n",
      "1      IndiaIndia        DelhiDelhi  260634     283014\n",
      "2    BrazilBrazil  BrasíliaBrasília   41568     324582\n",
      "3    BrazilBrazil        SaoPoSaoPo   26282     350864\n"
     ]
    }
   ],
   "source": [
    "f= lambda x:x*2\n",
    "print(df.apply(f))\n",
    "print(df.applymap(f))"
   ]
  },
  {
   "cell_type": "code",
   "execution_count": 249,
   "metadata": {},
   "outputs": [
    {
     "name": "stdout",
     "output_type": "stream",
     "text": [
      "Country      80\n",
      "Capital      84\n",
      "Pop          72\n",
      "Popcumsum    78\n",
      "dtype: int64\n",
      "   Country  Capital  Pop  Popcumsum\n",
      "0        7        8    5          5\n",
      "1        5        5    6          6\n",
      "2        6        8    5          6\n",
      "3        6        5    5          6\n"
     ]
    }
   ],
   "source": [
    "print(df.apply(lambda x:len(str(x))))\n",
    "\n",
    "print(df.applymap(lambda x: len(str(x))))"
   ]
  },
  {
   "cell_type": "code",
   "execution_count": 250,
   "metadata": {},
   "outputs": [
    {
     "name": "stdout",
     "output_type": "stream",
     "text": [
      "Country      0    Belgium\\n1      India\\n2     Brazil\\n3   ...\n",
      "Capital      0    Brussels\\n1       Delhi\\n2    Brasília\\n3...\n",
      "Pop          0     11190\\n1    130317\\n2     20784\\n3     1...\n",
      "Popcumsum    0     11190\\n1    141507\\n2    162291\\n3    17...\n",
      "dtype: object\n",
      "     Country     Capital       Pop Popcumsum\n",
      "0  Belgium_X  Brussels_X   11190_X   11190_X\n",
      "1    India_X     Delhi_X  130317_X  141507_X\n",
      "2   Brazil_X  Brasília_X   20784_X  162291_X\n",
      "3   Brazil_X     SaoPo_X   13141_X  175432_X\n"
     ]
    }
   ],
   "source": [
    "print(df.apply(lambda x: str(x)+\"_X\"))\n",
    "\n",
    "print(df.applymap(lambda x: str(x)+\"_X\"))"
   ]
  },
  {
   "cell_type": "code",
   "execution_count": 251,
   "metadata": {},
   "outputs": [
    {
     "name": "stdout",
     "output_type": "stream",
     "text": [
      "   Country   Capital     Pop  Popcumsum               nc1     nc2    new_pop\n",
      "0  Belgium  Brussels   11190      11190  Belgium_Brussels   22380   12309.00\n",
      "1    India     Delhi  130317     141507       India_Delhi  260634  139439.19\n",
      "2   Brazil  Brasília   20784     162291   Brazil_Brasília   41568   22862.40\n",
      "3   Brazil     SaoPo   13141     175432      Brazil_SaoPo   26282   14455.10\n"
     ]
    }
   ],
   "source": [
    "df = df.assign(nc1=df.Country+\"_\"+df.Capital, nc2= df.Pop*2, \n",
    "          new_pop = df.Pop.apply(lambda x: x*1.1 if x < 120000 else (x*1.07 if x < 2000000 else x*1.05)))\n",
    "print(df)"
   ]
  },
  {
   "cell_type": "code",
   "execution_count": 256,
   "metadata": {},
   "outputs": [
    {
     "name": "stdout",
     "output_type": "stream",
     "text": [
      "             Pop                                  nc2                     \\\n",
      "Capital Brasília Brussels     Delhi    SaoPo Brasília Brussels     Delhi   \n",
      "Country                                                                    \n",
      "Belgium      NaN  11190.0       NaN      NaN      NaN  22380.0       NaN   \n",
      "Brazil   20784.0      NaN       NaN  13141.0  41568.0      NaN       NaN   \n",
      "India        NaN      NaN  130317.0      NaN      NaN      NaN  260634.0   \n",
      "\n",
      "                  \n",
      "Capital    SaoPo  \n",
      "Country           \n",
      "Belgium      NaN  \n",
      "Brazil   26282.0  \n",
      "India        NaN  \n",
      "             Pop                           nc2                     \n",
      "Capital Brasília Brussels Delhi SaoPo Brasília Brussels Delhi SaoPo\n",
      "Country                                                            \n",
      "Belgium      NaN     34.0   NaN   NaN      NaN     34.0   NaN   NaN\n",
      "Brazil      34.0      NaN   NaN  34.0     34.0      NaN   NaN  34.0\n",
      "India        NaN      NaN  35.0   NaN      NaN      NaN  35.0   NaN\n",
      "            Pop\n",
      "Country        \n",
      "Belgium   11190\n",
      "Brazil    33925\n",
      "India    130317\n"
     ]
    }
   ],
   "source": [
    "print(df.pivot(index='Country',columns='Capital',values=['Pop','nc2']))\n",
    "print(df.pivot_table(index='Country',columns='Capital',values=['Pop','nc2'],aggfunc=lambda x: len(str(x))))\n",
    "print(df.pivot_table(index='Country',values=['Pop'],aggfunc=sum)) "
   ]
  },
  {
   "cell_type": "code",
   "execution_count": 263,
   "metadata": {},
   "outputs": [
    {
     "name": "stdout",
     "output_type": "stream",
     "text": [
      "   Country   Capital variable   value\n",
      "0  Belgium  Brussels      Pop   11190\n",
      "1    India     Delhi      Pop  130317\n",
      "2   Brazil  Brasília      Pop   20784\n",
      "3   Brazil     SaoPo      Pop   13141\n",
      "   Country variable  Population\n",
      "0  Belgium      Pop       11190\n",
      "1    India      Pop      130317\n",
      "2   Brazil      Pop       20784\n",
      "3   Brazil      Pop       13141\n"
     ]
    }
   ],
   "source": [
    "print(pd.melt(df,id_vars =['Country','Capital'],value_vars=['Pop']))\n",
    "print(pd.melt(df,id_vars =['Country'],value_vars=['Pop'],value_name='Population'))"
   ]
  },
  {
   "cell_type": "code",
   "execution_count": 319,
   "metadata": {},
   "outputs": [
    {
     "name": "stdout",
     "output_type": "stream",
     "text": [
      "Capital  Brasília  Brussels     Delhi    SaoPo\n",
      "Country                                       \n",
      "Belgium       NaN   11190.0       NaN      NaN\n",
      "Brazil    20784.0       NaN       NaN  13141.0\n",
      "India         NaN       NaN  130317.0      NaN\n",
      "\n",
      "\n",
      "Capital  Brasília     Delhi\n",
      "Country                    \n",
      "Belgium       NaN       NaN\n",
      "Brazil    20784.0       NaN\n",
      "India         NaN  130317.0\n",
      "\n",
      "\n",
      "Empty DataFrame\n",
      "Columns: []\n",
      "Index: [Belgium, Brazil, India]\n",
      "\n",
      "\n",
      "Capital\n",
      "Brasília     True\n",
      "Brussels    False\n",
      "Delhi        True\n",
      "SaoPo       False\n",
      "dtype: bool\n",
      "\n",
      "\n",
      "Country\n",
      "Belgium    False\n",
      "Brazil      True\n",
      "India       True\n",
      "dtype: bool\n",
      "\n",
      "\n",
      "Capital  Brasília  Brussels     Delhi    SaoPo\n",
      "Country                                       \n",
      "Brazil    20784.0       NaN       NaN  13141.0\n",
      "India         NaN       NaN  130317.0      NaN\n",
      "\n",
      "\n",
      "Capital  Brasília     Delhi\n",
      "Country                    \n",
      "Belgium       NaN       NaN\n",
      "Brazil    20784.0       NaN\n",
      "India         NaN  130317.0\n"
     ]
    }
   ],
   "source": [
    "df2 = df.pivot_table(index=['Country'],columns='Capital',values='Pop')\n",
    "print(df2)\n",
    "print('\\n')\n",
    "print(df2.loc[:,(df2>15000).any()])\n",
    "print('\\n')\n",
    "print(df2.loc[:,(df2>15000).all()])\n",
    "print('\\n')\n",
    "print((df2>15000).any(axis=0))\n",
    "print('\\n')\n",
    "print((df2>15000).any(axis=1))\n",
    "print('\\n')\n",
    "print(df2.loc[(df2>15000).any(axis=1),:])\n",
    "print('\\n')\n",
    "print(df2.loc[:,(df2>15000).any(axis=0)])"
   ]
  },
  {
   "cell_type": "code",
   "execution_count": 358,
   "metadata": {
    "scrolled": true
   },
   "outputs": [
    {
     "name": "stdout",
     "output_type": "stream",
     "text": [
      "Capital  Brasília  Brussels     Delhi\n",
      "Country                              \n",
      "Belgium       NaN   11190.0       NaN\n",
      "Brazil    20784.0       NaN       NaN\n",
      "India         NaN       NaN  130317.0\n",
      "\n",
      "\n",
      "   Country   Capital    Pop  Popcumsum               nc1    nc2  new_pop\n",
      "0  Belgium  Brussels  11190      11190  Belgium_Brussels  22380  12309.0\n",
      "2   Brazil  Brasília  20784     162291   Brazil_Brasília  41568  22862.4\n",
      "3   Brazil     SaoPo  13141     175432      Brazil_SaoPo  26282  14455.1\n"
     ]
    }
   ],
   "source": [
    "print(df2.loc[:,df2.columns.isin(df.Capital[:3])])\n",
    "print('\\n')\n",
    "print(df[df.Country.isin(df2.index[:2])])"
   ]
  },
  {
   "cell_type": "code",
   "execution_count": 366,
   "metadata": {},
   "outputs": [
    {
     "data": {
      "text/plain": [
       "<matplotlib.axes._subplots.AxesSubplot at 0x260782d7f70>"
      ]
     },
     "execution_count": 366,
     "metadata": {},
     "output_type": "execute_result"
    },
    {
     "data": {
      "image/png": "[encoded data removed]",
      "text/plain": [
       "<Figure size 432x288 with 1 Axes>"
      ]
     },
     "metadata": {
      "needs_background": "light"
     },
     "output_type": "display_data"
    },
    {
     "data": {
      "image/png": "[encoded data removed]",
      "text/plain": [
       "<Figure size 432x288 with 1 Axes>"
      ]
     },
     "metadata": {
      "needs_background": "light"
     },
     "output_type": "display_data"
    }
   ],
   "source": [
    "df2.plot.bar()\n",
    "df2.plot(kind='bar')"
   ]
  },
  {
   "cell_type": "code",
   "execution_count": 371,
   "metadata": {},
   "outputs": [
    {
     "name": "stdout",
     "output_type": "stream",
     "text": [
      "Counter({'i': 3, 'a': 3, 'n': 2, ' ': 2, 's': 2, 'h': 2, 'C': 1, 'y': 1, 'A': 1, 'P': 1, 't': 1, 'l': 1})\n",
      "\n",
      "\n"
     ]
    },
    {
     "data": {
      "text/plain": [
       "<bound method Counter.most_common of Counter({'i': 3, 'a': 3, 'n': 2, ' ': 2, 's': 2, 'h': 2, 'C': 1, 'y': 1, 'A': 1, 'P': 1, 't': 1, 'l': 1})>"
      ]
     },
     "execution_count": 371,
     "metadata": {},
     "output_type": "execute_result"
    }
   ],
   "source": [
    "import collections\n",
    "c = collections.Counter('Ciyanna Ashish Patil')\n",
    "print(c)\n",
    "print('\\n')\n",
    "c.most_common"
   ]
  },
  {
   "cell_type": "code",
   "execution_count": null,
   "metadata": {},
   "outputs": [],
   "source": [
    "s = pd.Series([3, -5, 7, 4], index=['a', 'b', 'c', 'd'])\n",
    "s3 = pd.Series([1,-3,4], index=['a','c','b'])\n",
    "print(s,s3)\n",
    "print(s+s3)\n",
    "print(s.add(s3))\n",
    "print(s.add(s3,fill_value=0))\n",
    "print(s.sub(s3,fill_value=0)) # try 'mul', 'div'"
   ]
  },
  {
   "cell_type": "code",
   "execution_count": 374,
   "metadata": {},
   "outputs": [
    {
     "data": {
      "text/plain": [
       "['A', 'B', 'C']"
      ]
     },
     "execution_count": 374,
     "metadata": {},
     "output_type": "execute_result"
    }
   ],
   "source": [
    "lst = [['A'], ['A', 'B', 'C'], ['A', 'B']]\n",
    "max(lst)"
   ]
  },
  {
   "cell_type": "code",
   "execution_count": null,
   "metadata": {},
   "outputs": [],
   "source": [
    "print(np.zeros((3,4)))\n",
    "print(np.ones((2,3,4)))\n",
    "print(np.arange(10,25,4))\n",
    "print(np.linspace(0,10,11))"
   ]
  },
  {
   "cell_type": "code",
   "execution_count": null,
   "metadata": {
    "scrolled": true
   },
   "outputs": [],
   "source": [
    "print(np.full((3,4),7))\n",
    "print(np.random.rand(3,5))\n",
    "print(np.random.rand(2,3,5).ndim)\n",
    "print(np.random.rand(2,3,5).size)"
   ]
  },
  {
   "cell_type": "code",
   "execution_count": null,
   "metadata": {},
   "outputs": [],
   "source": [
    "print(np.random.rand(5,3))\n",
    "print(np.random.rand(5,3).flatten())\n",
    "print(np.random.rand(5,3).transpose())"
   ]
  },
  {
   "cell_type": "code",
   "execution_count": 1,
   "metadata": {},
   "outputs": [
    {
     "name": "stdout",
     "output_type": "stream",
     "text": [
      "('A', 'B', 'C', 'D')\n",
      "('A', 'B', 'D', 'C')\n",
      "('A', 'C', 'B', 'D')\n",
      "('A', 'C', 'D', 'B')\n",
      "('A', 'D', 'B', 'C')\n",
      "('A', 'D', 'C', 'B')\n",
      "('B', 'A', 'C', 'D')\n",
      "('B', 'A', 'D', 'C')\n",
      "('B', 'C', 'A', 'D')\n",
      "('B', 'C', 'D', 'A')\n",
      "('B', 'D', 'A', 'C')\n",
      "('B', 'D', 'C', 'A')\n",
      "('C', 'A', 'B', 'D')\n",
      "('C', 'A', 'D', 'B')\n",
      "('C', 'B', 'A', 'D')\n",
      "('C', 'B', 'D', 'A')\n",
      "('C', 'D', 'A', 'B')\n",
      "('C', 'D', 'B', 'A')\n",
      "('D', 'A', 'B', 'C')\n",
      "('D', 'A', 'C', 'B')\n",
      "('D', 'B', 'A', 'C')\n",
      "('D', 'B', 'C', 'A')\n",
      "('D', 'C', 'A', 'B')\n",
      "('D', 'C', 'B', 'A')\n"
     ]
    }
   ],
   "source": [
    "import itertools\n",
    "for p in itertools.permutations('ABCD'):\n",
    "    print(p)"
   ]
  },
  {
   "cell_type": "code",
   "execution_count": 15,
   "metadata": {},
   "outputs": [
    {
     "data": {
      "text/plain": [
       "2    14\n",
       "1     4\n",
       "3     2\n",
       "dtype: int64"
      ]
     },
     "execution_count": 15,
     "metadata": {},
     "output_type": "execute_result"
    }
   ],
   "source": [
    "import numpy as np\n",
    "import pandas as pd\n",
    "\n",
    "pd.Series(np.random.choice(a=[1,2,3], p=[0.1,0.7,0.2],size=20)).value_counts()"
   ]
  },
  {
   "cell_type": "code",
   "execution_count": 30,
   "metadata": {},
   "outputs": [
    {
     "name": "stdout",
     "output_type": "stream",
     "text": [
      "2 3\n",
      "2 3 5 5\n"
     ]
    }
   ],
   "source": [
    "def next3 (x):\n",
    "    return(x,x+1,x+2,x+3)\n",
    "\n",
    "a,b,_,_ = next3(2)\n",
    "\n",
    "print(a,b)\n",
    "print(a,b,_,_)"
   ]
  }
 ],
 "metadata": {
  "kernelspec": {
   "display_name": "Python 3",
   "language": "python",
   "name": "python3"
  },
  "language_info": {
   "codemirror_mode": {
    "name": "ipython",
    "version": 3
   },
   "file_extension": ".py",
   "mimetype": "text/x-python",
   "name": "python",
   "nbconvert_exporter": "python",
   "pygments_lexer": "ipython3",
   "version": "3.8.3"
  }
 },
 "nbformat": 4,
 "nbformat_minor": 4
}
